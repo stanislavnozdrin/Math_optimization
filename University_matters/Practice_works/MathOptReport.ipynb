{
 "cells": [
  {
   "cell_type": "markdown",
   "metadata": {},
   "source": [
    "# Цель работы:\n",
    "- Изучить такие методы оптимизации как метод деления отрезка пополам и метод золотого сечения\n",
    "- Решить задачу, используя эти методы\n",
    "- Сформировать таблицу исследований по каждому методу(длину интервала, границы интервала на каждой итерации) и соотношение длины интервала нынешний и предыдущий итерации \n",
    "- Вывести график зависимости количества вычислений целевой функции от логарифма точности $\\epsilon$\n",
    "- Сделать выводы\n",
    "\n"
   ]
  },
  {
   "cell_type": "markdown",
   "metadata": {},
   "source": [
    "\n",
    "\n",
    "\n",
    "\n",
    "# 1. Метод деления отрезка попoлам \n",
    "\n",
    "## 1.1. Разбор примера из методички \n",
    "### 1.1.1. Вызов необходимых библиотек "
   ]
  },
  {
   "cell_type": "code",
   "execution_count": 1,
   "metadata": {},
   "outputs": [],
   "source": [
    "import numpy as np\n",
    "import math\n",
    "import matplotlib\n",
    "import matplotlib.pyplot as plt\n",
    "import pandas as pd\n",
    "matplotlib.style.use('ggplot')\n",
    "%matplotlib inline"
   ]
  },
  {
   "cell_type": "markdown",
   "metadata": {},
   "source": [
    "### 1.1.2. Задание стартовых значений для:\n",
    "* отрезка неопределенности\n",
    "* точности \n",
    "* шага итерации "
   ]
  },
  {
   "cell_type": "code",
   "execution_count": 2,
   "metadata": {},
   "outputs": [],
   "source": [
    "a0 = 0\n",
    "b0 = 10\n",
    "e = 1\n",
    "k = 0"
   ]
  },
  {
   "cell_type": "markdown",
   "metadata": {},
   "source": [
    "### 1.1.3. Задание функции"
   ]
  },
  {
   "cell_type": "code",
   "execution_count": 3,
   "metadata": {},
   "outputs": [],
   "source": [
    "def f(x):\n",
    "    return 2*x**2 - 12*x"
   ]
  },
  {
   "cell_type": "code",
   "execution_count": 4,
   "metadata": {},
   "outputs": [],
   "source": [
    "ak = a0\n",
    "bk = b0"
   ]
  },
  {
   "cell_type": "markdown",
   "metadata": {},
   "source": [
    "### 1.1.4. Осуществление алгоритма со всеми шагами "
   ]
  },
  {
   "cell_type": "code",
   "execution_count": 5,
   "metadata": {},
   "outputs": [
    {
     "name": "stdout",
     "output_type": "stream",
     "text": [
      "Точка х* : 3.125\n",
      "f(x*): -17.96875\n"
     ]
    }
   ],
   "source": [
    "xk = (ak+bk)/2\n",
    "IL = bk - ak\n",
    "while IL >= e:\n",
    "    yk = ak + IL/4\n",
    "    zk = bk - IL/4\n",
    "    if f(xk)>f(yk):\n",
    "        k = k+1\n",
    "        bk = xk\n",
    "        ak = ak\n",
    "        xk = yk\n",
    "        IL = bk - ak\n",
    "    else:\n",
    "        k = k+1\n",
    "        if f(xk)>f(zk):\n",
    "            ak = xk\n",
    "            xk = zk            \n",
    "        else:\n",
    "            ak = yk\n",
    "            bk = zk\n",
    "        IL = bk - ak\n",
    "xopt = (ak+bk)/2\n",
    "print('Точка х* :', xopt)\n",
    "print('f(x*):',f(xopt))"
   ]
  },
  {
   "cell_type": "markdown",
   "metadata": {},
   "source": [
    "<b> Прежде чем перейти к непосредственному решению примера, оформим алгоритм в виде функции. \n",
    "На вход функции будем подавать следующие параметры:\n",
    "- отрезок неопределенности с параметрами $ a_0 $ и $ b_0 $\n",
    "- точность $\\epsilon>0$\n",
    "- функцию $f(x)$\n",
    "    \n",
    "  Также добавим массивы - накопители, чтобы вывести финальные таблички c длинами отрезка, границами отрезка и.т.д.\n",
    "</b>"
   ]
  },
  {
   "cell_type": "code",
   "execution_count": 6,
   "metadata": {},
   "outputs": [],
   "source": [
    "def bisection_method(a0,b0,e,f):\n",
    "    ak = a0\n",
    "    bk = b0\n",
    "    xk = (ak+bk)/2\n",
    "    IL = bk - ak\n",
    "    k = 0\n",
    "    a = []\n",
    "    b = []\n",
    "    Length = []\n",
    "    a.append(ak)\n",
    "    b.append(bk)\n",
    "    Length.append(IL)\n",
    "    while IL >= e:\n",
    "        yk = ak + IL/4\n",
    "        zk = bk - IL/4\n",
    "        if f(xk)>f(yk):\n",
    "            bk = xk\n",
    "            xk = yk\n",
    "            IL = abs(bk - ak)\n",
    "            a.append(ak)\n",
    "            b.append(bk)\n",
    "            Length.append(IL)\n",
    "            k = k+2\n",
    "        else:\n",
    "            if f(xk)>f(zk):\n",
    "                ak = xk\n",
    "                xk = zk\n",
    "                a.append(ak)\n",
    "                b.append(bk)\n",
    "            else:\n",
    "                ak = yk\n",
    "                bk = zk\n",
    "                a.append(ak)\n",
    "                b.append(bk)\n",
    "            IL = abs(bk - ak)\n",
    "            Length.append(IL)\n",
    "            k = k+2\n",
    "    xopt = (ak+bk)/2\n",
    "    return xopt,k,a,b,Length"
   ]
  },
  {
   "cell_type": "code",
   "execution_count": 7,
   "metadata": {},
   "outputs": [
    {
     "name": "stdout",
     "output_type": "stream",
     "text": [
      "Точка х* : 3.125\n",
      "f(x*): -17.96875\n",
      "Количество вычислений функций: 8\n"
     ]
    }
   ],
   "source": [
    "xmin,k,a1,b1,Length1 = bisection_method(a0,b0,e,f)\n",
    "print('Точка х* :', xmin)\n",
    "print('f(x*):',f(xmin))\n",
    "print('Количество вычислений функций:',k)"
   ]
  },
  {
   "cell_type": "markdown",
   "metadata": {},
   "source": [
    "## 1.2. Решение примера "
   ]
  },
  {
   "cell_type": "markdown",
   "metadata": {},
   "source": [
    "<b> Мой пример задан номером 12\n",
    "    \n",
    "   $f(x) = xe^x \\rightarrow min  , x\\in [-2,0] $\n",
    "\n",
    "   \n",
    "</b>"
   ]
  },
  {
   "cell_type": "markdown",
   "metadata": {},
   "source": [
    "### 1.2.1. Задание стартовых значений для:\n",
    "* отрезка неопределенности\n",
    "* точности \n",
    "\n",
    "Для точности сформируем отдельный массив значений, чтобы потом построить график зависимости количества пересчета целевой функции от логарифма задаваемой точности $\\epsilon $"
   ]
  },
  {
   "cell_type": "code",
   "execution_count": 8,
   "metadata": {},
   "outputs": [],
   "source": [
    "a0 = -2\n",
    "b0 = 0\n",
    "eps = [i/100000 for i in range(1,200000)]"
   ]
  },
  {
   "cell_type": "markdown",
   "metadata": {},
   "source": [
    "### 1.2.2. Задание целевой функции"
   ]
  },
  {
   "cell_type": "code",
   "execution_count": 9,
   "metadata": {},
   "outputs": [],
   "source": [
    "def cf(x):\n",
    "    return x*math.exp(x)\n"
   ]
  },
  {
   "cell_type": "markdown",
   "metadata": {},
   "source": [
    "### 1.2.3. Решение задачи:\n",
    "Для опреденности выберем $\\epsilon = 0.03$"
   ]
  },
  {
   "cell_type": "code",
   "execution_count": 10,
   "metadata": {},
   "outputs": [
    {
     "name": "stdout",
     "output_type": "stream",
     "text": [
      "Точка х* : -1.0\n",
      "f(x*): -0.36787944117144233\n"
     ]
    }
   ],
   "source": [
    "eps1 = 0.03\n",
    "xnew,k2,a2,b2,Length2 = bisection_method(a0,b0,eps1,cf)\n",
    "print('Точка х* :', xnew)\n",
    "print('f(x*):',cf(xnew))\n"
   ]
  },
  {
   "cell_type": "markdown",
   "metadata": {},
   "source": [
    "### 1.2.4. Создание таблицы с данными"
   ]
  },
  {
   "cell_type": "code",
   "execution_count": 11,
   "metadata": {},
   "outputs": [],
   "source": [
    "data = {'Левая граница интервалов':a2 ,'Правая граница интервалов':b2, 'Длина интервала(М1)':Length2} \n",
    "\n",
    "df = pd.DataFrame(data)"
   ]
  },
  {
   "cell_type": "code",
   "execution_count": 12,
   "metadata": {},
   "outputs": [],
   "source": [
    "\n",
    "def Add(row):\n",
    "    s = '[' + str(row['Левая граница интервалов'])+';'+str(row['Правая граница интервалов'])+']'\n",
    "    return s\n",
    "df['Границы'] = df.apply (lambda row: Add(row), axis=1)"
   ]
  },
  {
   "cell_type": "code",
   "execution_count": 13,
   "metadata": {},
   "outputs": [
    {
     "data": {
      "text/html": [
       "<div>\n",
       "<style scoped>\n",
       "    .dataframe tbody tr th:only-of-type {\n",
       "        vertical-align: middle;\n",
       "    }\n",
       "\n",
       "    .dataframe tbody tr th {\n",
       "        vertical-align: top;\n",
       "    }\n",
       "\n",
       "    .dataframe thead th {\n",
       "        text-align: right;\n",
       "    }\n",
       "</style>\n",
       "<table border=\"1\" class=\"dataframe\">\n",
       "  <thead>\n",
       "    <tr style=\"text-align: right;\">\n",
       "      <th></th>\n",
       "      <th>Границы</th>\n",
       "      <th>Длина интервала(М1)</th>\n",
       "      <th>Соотношение интервалов</th>\n",
       "    </tr>\n",
       "  </thead>\n",
       "  <tbody>\n",
       "    <tr>\n",
       "      <th>0</th>\n",
       "      <td>[-2.0;0.0]</td>\n",
       "      <td>2.000000</td>\n",
       "      <td>0.5</td>\n",
       "    </tr>\n",
       "    <tr>\n",
       "      <th>1</th>\n",
       "      <td>[-1.5;-0.5]</td>\n",
       "      <td>1.000000</td>\n",
       "      <td>0.5</td>\n",
       "    </tr>\n",
       "    <tr>\n",
       "      <th>2</th>\n",
       "      <td>[-1.25;-0.75]</td>\n",
       "      <td>0.500000</td>\n",
       "      <td>0.5</td>\n",
       "    </tr>\n",
       "    <tr>\n",
       "      <th>3</th>\n",
       "      <td>[-1.125;-0.875]</td>\n",
       "      <td>0.250000</td>\n",
       "      <td>0.5</td>\n",
       "    </tr>\n",
       "    <tr>\n",
       "      <th>4</th>\n",
       "      <td>[-1.0625;-0.9375]</td>\n",
       "      <td>0.125000</td>\n",
       "      <td>0.5</td>\n",
       "    </tr>\n",
       "    <tr>\n",
       "      <th>5</th>\n",
       "      <td>[-1.03125;-0.96875]</td>\n",
       "      <td>0.062500</td>\n",
       "      <td>0.5</td>\n",
       "    </tr>\n",
       "    <tr>\n",
       "      <th>6</th>\n",
       "      <td>[-1.015625;-0.984375]</td>\n",
       "      <td>0.031250</td>\n",
       "      <td>0.5</td>\n",
       "    </tr>\n",
       "    <tr>\n",
       "      <th>7</th>\n",
       "      <td>[-1.0078125;-0.9921875]</td>\n",
       "      <td>0.015625</td>\n",
       "      <td>0.5</td>\n",
       "    </tr>\n",
       "  </tbody>\n",
       "</table>\n",
       "</div>"
      ],
      "text/plain": [
       "                   Границы  Длина интервала(М1)  Соотношение интервалов\n",
       "0               [-2.0;0.0]             2.000000                     0.5\n",
       "1              [-1.5;-0.5]             1.000000                     0.5\n",
       "2            [-1.25;-0.75]             0.500000                     0.5\n",
       "3          [-1.125;-0.875]             0.250000                     0.5\n",
       "4        [-1.0625;-0.9375]             0.125000                     0.5\n",
       "5      [-1.03125;-0.96875]             0.062500                     0.5\n",
       "6    [-1.015625;-0.984375]             0.031250                     0.5\n",
       "7  [-1.0078125;-0.9921875]             0.015625                     0.5"
      ]
     },
     "execution_count": 13,
     "metadata": {},
     "output_type": "execute_result"
    }
   ],
   "source": [
    "df = df[['Границы','Длина интервала(М1)']]\n",
    "for i in range(1, len(df['Длина интервала(М1)'])):\n",
    "    df['Соотношение интервалов']=df['Длина интервала(М1)'].loc[i]/df['Длина интервала(М1)'].loc[i-1] \n",
    "df.head(df.shape[0])"
   ]
  },
  {
   "cell_type": "markdown",
   "metadata": {},
   "source": [
    "### 1.2.5. Построение графика зависимости количества пересчета целевой функции от логарифма задаваемой точности $\\epsilon $"
   ]
  },
  {
   "cell_type": "code",
   "execution_count": 14,
   "metadata": {},
   "outputs": [
    {
     "name": "stderr",
     "output_type": "stream",
     "text": [
      "No handles with labels found to put in legend.\n"
     ]
    },
    {
     "data": {
      "text/plain": [
       "<matplotlib.legend.Legend at 0x20157486550>"
      ]
     },
     "execution_count": 14,
     "metadata": {},
     "output_type": "execute_result"
    },
    {
     "data": {
      "image/png": "[encoded data removed]",
      "text/plain": [
       "<Figure size 432x288 with 1 Axes>"
      ]
     },
     "metadata": {
      "needs_background": "light"
     },
     "output_type": "display_data"
    }
   ],
   "source": [
    "count = []\n",
    "for each_eps in eps:\n",
    "    xnew,k,a,b,Length = bisection_method(a0,b0,each_eps,cf)\n",
    "    count.append(k)\n",
    "plt.plot(count, eps ,'r')\n",
    "plt.title('График зависимости')\n",
    "plt.xlabel('Количество вычислений')\n",
    "plt.ylabel('Точность')\n",
    "plt.legend(loc='best')"
   ]
  },
  {
   "cell_type": "code",
   "execution_count": 15,
   "metadata": {
    "scrolled": true
   },
   "outputs": [
    {
     "name": "stderr",
     "output_type": "stream",
     "text": [
      "No handles with labels found to put in legend.\n"
     ]
    },
    {
     "data": {
      "text/plain": [
       "<matplotlib.legend.Legend at 0x20157545c50>"
      ]
     },
     "execution_count": 15,
     "metadata": {},
     "output_type": "execute_result"
    },
    {
     "data": {
      "image/png": "[encoded data removed]",
      "text/plain": [
       "<Figure size 432x288 with 1 Axes>"
      ]
     },
     "metadata": {
      "needs_background": "light"
     },
     "output_type": "display_data"
    }
   ],
   "source": [
    "plt.plot(count,np.log(eps),'r')\n",
    "plt.title('График зависимости с логарифмом')\n",
    "plt.xlabel('Количество вычислений ')\n",
    "plt.ylabel('Логарифм точности ')\n",
    "plt.legend(loc='best')"
   ]
  },
  {
   "cell_type": "markdown",
   "metadata": {},
   "source": [
    "# 2. Метод золотого сечения"
   ]
  },
  {
   "cell_type": "markdown",
   "metadata": {},
   "source": [
    "## 2.1. Разбор примера из методички "
   ]
  },
  {
   "cell_type": "markdown",
   "metadata": {},
   "source": [
    "### 2.1.1. Задание стартовых значений для:\n",
    "* отрезка неопределенности\n",
    "* точности \n",
    "* шага итерации "
   ]
  },
  {
   "cell_type": "code",
   "execution_count": 16,
   "metadata": {},
   "outputs": [],
   "source": [
    "a0 = 0\n",
    "b0 = 0.5\n",
    "e = 0.15\n",
    "k = 0"
   ]
  },
  {
   "cell_type": "markdown",
   "metadata": {},
   "source": [
    "### 2.1.2. Задание функции"
   ]
  },
  {
   "cell_type": "code",
   "execution_count": 17,
   "metadata": {},
   "outputs": [],
   "source": [
    "def f(x):\n",
    "    return (127/4)*(x**2) - (61/4)*x+2"
   ]
  },
  {
   "cell_type": "markdown",
   "metadata": {},
   "source": [
    "### 2.1.3. Осуществление алгоритма со всеми шагами "
   ]
  },
  {
   "cell_type": "code",
   "execution_count": 18,
   "metadata": {},
   "outputs": [
    {
     "name": "stdout",
     "output_type": "stream",
     "text": [
      "Точка x* : 0.25\n",
      "f(x*): 0.171875\n"
     ]
    }
   ],
   "source": [
    "ak = a0\n",
    "bk = b0\n",
    "yk = ak+0.382*(bk-ak)\n",
    "zk = ak+0.618*(bk-ak)\n",
    "IL = abs(bk-ak)\n",
    "while IL>=e:\n",
    "    if f(yk)<=f(zk):\n",
    "        bk = zk\n",
    "        zk = yk\n",
    "        yk = ak+0.382*(bk-ak)\n",
    "        IL = abs(bk-ak)\n",
    "    else:\n",
    "        ak = yk\n",
    "        ynew = zk\n",
    "        zk = ak+0.618*(bk-ak)\n",
    "        yk = ynew\n",
    "        IL = abs(bk-ak)\n",
    "xopt = (ak+bk)/2\n",
    "print('Точка x* :',round(xopt,3))\n",
    "print('f(x*):',f(xopt))\n",
    "        "
   ]
  },
  {
   "cell_type": "markdown",
   "metadata": {},
   "source": [
    "<b> Прежде чем перейти к непосредственному решению примера, оформим алгоритм в виде функции. \n",
    "На вход функции будем подавать следующие параметры:\n",
    "- отрезок неопределенности с параметрами $ a_0 $ и $ b_0 $\n",
    "- точность $\\epsilon>0$\n",
    "- функцию $f(x)$\n",
    "    \n",
    "  Также добавим массивы - накопители, чтобы вывести финальные таблички c длинами отрезка, границами отрезка и.т.д.\n",
    "</b>"
   ]
  },
  {
   "cell_type": "code",
   "execution_count": 19,
   "metadata": {},
   "outputs": [],
   "source": [
    "def Golden_section(a0,b0,e,f):\n",
    "    ak = a0\n",
    "    bk = b0\n",
    "    yk = ak+0.382*(bk-ak)\n",
    "    zk = ak+0.618*(bk-ak)\n",
    "    IL = abs(bk-ak)\n",
    "    a=[]\n",
    "    b=[]\n",
    "    Length=[]\n",
    "    k = 0\n",
    "    while IL>=e:\n",
    "        if f(yk)<=f(zk):\n",
    "            bk = zk\n",
    "            zk = yk\n",
    "            yk = ak+0.382*(bk-ak)\n",
    "            IL = abs(bk-ak)\n",
    "            k=k+1\n",
    "            ak = round(ak,3)\n",
    "            a.append(ak)\n",
    "            b.append(bk)\n",
    "            Length.append(IL)\n",
    "        else:\n",
    "            ak = yk\n",
    "            ynew = zk\n",
    "            zk = ak+0.618*(bk-ak)\n",
    "            yk = ynew\n",
    "            IL = abs(bk-ak)\n",
    "            k = k+1\n",
    "            a.append(ak)\n",
    "            b.append(bk)\n",
    "            Length.append(IL)\n",
    "    xopt = (ak+bk)/2\n",
    "    return xopt,k+1,a,b,Length"
   ]
  },
  {
   "cell_type": "code",
   "execution_count": 20,
   "metadata": {},
   "outputs": [
    {
     "name": "stdout",
     "output_type": "stream",
     "text": [
      "Точка х* : 0.25\n",
      "f(x*): 0.171875\n",
      "Количество вычислений функций: 4\n"
     ]
    }
   ],
   "source": [
    "xmin,k1,a1,b1,Length1 = Golden_section(a0,b0,e,f)\n",
    "print('Точка х* :', round(xmin,3))\n",
    "print('f(x*):',f(xmin))\n",
    "print('Количество вычислений функций:',k1)"
   ]
  },
  {
   "cell_type": "markdown",
   "metadata": {},
   "source": [
    "## 2.2. Решение примера "
   ]
  },
  {
   "cell_type": "markdown",
   "metadata": {},
   "source": [
    "<b> Мой пример задан номером 12\n",
    "    \n",
    "   $f(x) = xe^x \\rightarrow min  , x\\in [-2,0] $\n",
    "\n",
    "   \n",
    "</b>"
   ]
  },
  {
   "cell_type": "markdown",
   "metadata": {},
   "source": [
    "### 2.2.1. Задание стартовых значений для:\n",
    "* отрезка неопределенности\n",
    "* точности \n",
    "\n",
    "Для точности сформируем отдельный массив значений, чтобы потом построить график зависимости количества пересчета целевой функции от логарифма задаваемой точности $\\epsilon $"
   ]
  },
  {
   "cell_type": "code",
   "execution_count": 21,
   "metadata": {},
   "outputs": [],
   "source": [
    "a0 = -2\n",
    "b0 = 0\n",
    "eps = [i/100000 for i in range(1,200000)]"
   ]
  },
  {
   "cell_type": "markdown",
   "metadata": {},
   "source": [
    "### 2.2.2. Задание целевой функции"
   ]
  },
  {
   "cell_type": "code",
   "execution_count": 22,
   "metadata": {},
   "outputs": [],
   "source": [
    "def cf(x):\n",
    "    return x*math.exp(x)\n"
   ]
  },
  {
   "cell_type": "markdown",
   "metadata": {},
   "source": [
    "### 2.2.3. Решение задачи:\n",
    "Для опреденности выберем $\\epsilon = 0.03$"
   ]
  },
  {
   "cell_type": "code",
   "execution_count": 23,
   "metadata": {},
   "outputs": [
    {
     "name": "stdout",
     "output_type": "stream",
     "text": [
      "Точка х* : -1.0\n",
      "f(x*): -0.36787944101647213\n"
     ]
    }
   ],
   "source": [
    "eps1 = 0.03\n",
    "xmin,k1,a1,b1,Length1 = Golden_section(a0,b0,eps1,cf)\n",
    "print('Точка х* :',round(xmin,3))\n",
    "print('f(x*):',cf(xmin))"
   ]
  },
  {
   "cell_type": "markdown",
   "metadata": {},
   "source": [
    "### 2.2.4. Создание таблицы с данными"
   ]
  },
  {
   "cell_type": "code",
   "execution_count": 24,
   "metadata": {},
   "outputs": [],
   "source": [
    "data1 = {'Левая граница интервалов':a1 ,'Правая граница интервалов':b1, 'Длина интервала(М2)':Length1} \n",
    "\n",
    "df1 = pd.DataFrame(data1)"
   ]
  },
  {
   "cell_type": "code",
   "execution_count": 25,
   "metadata": {},
   "outputs": [],
   "source": [
    "def Add(row):\n",
    "    s = '[' + str(row['Левая граница интервалов'])+';'+str(row['Правая граница интервалов'])+']'\n",
    "    return s\n",
    "df1['Границы'] = df1.apply (lambda row: Add(row), axis=1)"
   ]
  },
  {
   "cell_type": "code",
   "execution_count": 26,
   "metadata": {},
   "outputs": [
    {
     "data": {
      "text/html": [
       "<div>\n",
       "<style scoped>\n",
       "    .dataframe tbody tr th:only-of-type {\n",
       "        vertical-align: middle;\n",
       "    }\n",
       "\n",
       "    .dataframe tbody tr th {\n",
       "        vertical-align: top;\n",
       "    }\n",
       "\n",
       "    .dataframe thead th {\n",
       "        text-align: right;\n",
       "    }\n",
       "</style>\n",
       "<table border=\"1\" class=\"dataframe\">\n",
       "  <thead>\n",
       "    <tr style=\"text-align: right;\">\n",
       "      <th></th>\n",
       "      <th>Границы</th>\n",
       "      <th>Длина интервала(М2)</th>\n",
       "      <th>Соотношение интервалов</th>\n",
       "    </tr>\n",
       "  </thead>\n",
       "  <tbody>\n",
       "    <tr>\n",
       "      <th>0</th>\n",
       "      <td>[-2.0;-0.764]</td>\n",
       "      <td>1.236000</td>\n",
       "      <td>0.617081</td>\n",
       "    </tr>\n",
       "    <tr>\n",
       "      <th>1</th>\n",
       "      <td>[-1.527848;-0.764]</td>\n",
       "      <td>0.763848</td>\n",
       "      <td>0.617081</td>\n",
       "    </tr>\n",
       "    <tr>\n",
       "      <th>2</th>\n",
       "      <td>[-1.236;-0.764]</td>\n",
       "      <td>0.472000</td>\n",
       "      <td>0.617081</td>\n",
       "    </tr>\n",
       "    <tr>\n",
       "      <th>3</th>\n",
       "      <td>[-1.236;-0.944304]</td>\n",
       "      <td>0.291696</td>\n",
       "      <td>0.617081</td>\n",
       "    </tr>\n",
       "    <tr>\n",
       "      <th>4</th>\n",
       "      <td>[-1.124572128;-0.944304]</td>\n",
       "      <td>0.180268</td>\n",
       "      <td>0.617081</td>\n",
       "    </tr>\n",
       "    <tr>\n",
       "      <th>5</th>\n",
       "      <td>[-1.055789936;-0.944304]</td>\n",
       "      <td>0.111486</td>\n",
       "      <td>0.617081</td>\n",
       "    </tr>\n",
       "    <tr>\n",
       "      <th>6</th>\n",
       "      <td>[-1.056;-0.986891627552]</td>\n",
       "      <td>0.068898</td>\n",
       "      <td>0.617081</td>\n",
       "    </tr>\n",
       "    <tr>\n",
       "      <th>7</th>\n",
       "      <td>[-1.029470782172864;-0.986891627552]</td>\n",
       "      <td>0.042579</td>\n",
       "      <td>0.617081</td>\n",
       "    </tr>\n",
       "    <tr>\n",
       "      <th>8</th>\n",
       "      <td>[-1.013166424896;-0.986891627552]</td>\n",
       "      <td>0.026275</td>\n",
       "      <td>0.617081</td>\n",
       "    </tr>\n",
       "  </tbody>\n",
       "</table>\n",
       "</div>"
      ],
      "text/plain": [
       "                                Границы  Длина интервала(М2)  \\\n",
       "0                         [-2.0;-0.764]             1.236000   \n",
       "1                    [-1.527848;-0.764]             0.763848   \n",
       "2                       [-1.236;-0.764]             0.472000   \n",
       "3                    [-1.236;-0.944304]             0.291696   \n",
       "4              [-1.124572128;-0.944304]             0.180268   \n",
       "5              [-1.055789936;-0.944304]             0.111486   \n",
       "6              [-1.056;-0.986891627552]             0.068898   \n",
       "7  [-1.029470782172864;-0.986891627552]             0.042579   \n",
       "8     [-1.013166424896;-0.986891627552]             0.026275   \n",
       "\n",
       "   Соотношение интервалов  \n",
       "0                0.617081  \n",
       "1                0.617081  \n",
       "2                0.617081  \n",
       "3                0.617081  \n",
       "4                0.617081  \n",
       "5                0.617081  \n",
       "6                0.617081  \n",
       "7                0.617081  \n",
       "8                0.617081  "
      ]
     },
     "execution_count": 26,
     "metadata": {},
     "output_type": "execute_result"
    }
   ],
   "source": [
    "df1 = df1[['Границы','Длина интервала(М2)']]\n",
    "for i in range(1, len(df1['Длина интервала(М2)'])):\n",
    "    df1['Соотношение интервалов']=df1['Длина интервала(М2)'].loc[i]/df1['Длина интервала(М2)'].loc[i-1] \n",
    "df1.head(df1.shape[0])\n"
   ]
  },
  {
   "cell_type": "markdown",
   "metadata": {},
   "source": [
    "### 2.2.5. Построение графика зависимости количества пересчета целевой функции от логарифма задаваемой точности $\\epsilon $"
   ]
  },
  {
   "cell_type": "code",
   "execution_count": 27,
   "metadata": {},
   "outputs": [
    {
     "name": "stderr",
     "output_type": "stream",
     "text": [
      "No handles with labels found to put in legend.\n"
     ]
    },
    {
     "data": {
      "text/plain": [
       "<matplotlib.legend.Legend at 0x201571652b0>"
      ]
     },
     "execution_count": 27,
     "metadata": {},
     "output_type": "execute_result"
    },
    {
     "data": {
      "image/png": "[encoded data removed]",
      "text/plain": [
       "<Figure size 432x288 with 1 Axes>"
      ]
     },
     "metadata": {
      "needs_background": "light"
     },
     "output_type": "display_data"
    }
   ],
   "source": [
    "count = []\n",
    "for each_eps in eps:\n",
    "    xnew,k,a,b,Length = Golden_section(a0,b0,each_eps,cf)\n",
    "    count.append(k)\n",
    "plt.plot(count, eps ,'b')\n",
    "plt.title('График зависимости')\n",
    "plt.xlabel('Количество вычислений')\n",
    "plt.ylabel('Точность')\n",
    "plt.legend(loc='best')"
   ]
  },
  {
   "cell_type": "code",
   "execution_count": 28,
   "metadata": {},
   "outputs": [
    {
     "name": "stderr",
     "output_type": "stream",
     "text": [
      "No handles with labels found to put in legend.\n"
     ]
    },
    {
     "data": {
      "text/plain": [
       "<matplotlib.legend.Legend at 0x20157553940>"
      ]
     },
     "execution_count": 28,
     "metadata": {},
     "output_type": "execute_result"
    },
    {
     "data": {
      "image/png": "[encoded data removed]",
      "text/plain": [
       "<Figure size 432x288 with 1 Axes>"
      ]
     },
     "metadata": {
      "needs_background": "light"
     },
     "output_type": "display_data"
    }
   ],
   "source": [
    "plt.plot(count,np.log(eps),'b')\n",
    "plt.title('График зависимости с логарифмом')\n",
    "plt.xlabel('Количество вычислений ')\n",
    "plt.ylabel('Логарифм точности ')\n",
    "plt.legend(loc='best')"
   ]
  },
  {
   "cell_type": "markdown",
   "metadata": {},
   "source": [
    "\n",
    "# Выводы:\n",
    "Итак, изучив данные методы оптимизации(реализовав их алгоритм) и построив различные графики, можно сделать следующие выводы:\n",
    " 1. Оба метода успешно справляются с поиском минимума для такой \"незамысловатой\" функции, однако методу золотого сечения понадобилось больше итераций, чтобы найти точку минимума.\n",
    " 2. Также входе исследований можно заметить, что для лучшей \"сходимости\" методу золотого сечения нужна более высокая точность. Например, при $\\epsilon = 0.1 $ алгоритм деления отрезка пополам нашел точку минимума $X_{min} = 1 $, в то время как при этой же точности алгоритм золотого сечения сошелся в точке $X_{min} = 1.02$. Это в том числе связано с округлением и грубостью вычислений точки как середины отрезка.\n",
    " 3. Соотношение длин интервала в обоих методах происходит пропорцианально(что обусловлено методами), однако в случае метода деления отрезка пополам коэффициент соотношения длины $ \\frac{L_{i-1}}{L_{i}} = 0.5$, в методе золотого сечения этот коэффициент  $\\approx  0.618$\n",
    " 4. Графики зависимости количества вычислений функции от логарифма точности $\\epsilon > 0$ являются \"практически\" линейными, что говорит о наличии близкой к экспоненциальной зависимости точности от количества вычислений.(о чем указывают другие построенные графики)\n"
   ]
  },
  {
   "cell_type": "code",
   "execution_count": null,
   "metadata": {},
   "outputs": [],
   "source": []
  }
 ],
 "metadata": {
  "kernelspec": {
   "display_name": "Python 3",
   "language": "python",
   "name": "python3"
  },
  "language_info": {
   "codemirror_mode": {
    "name": "ipython",
    "version": 3
   },
   "file_extension": ".py",
   "mimetype": "text/x-python",
   "name": "python",
   "nbconvert_exporter": "python",
   "pygments_lexer": "ipython3",
   "version": "3.7.3"
  }
 },
 "nbformat": 4,
 "nbformat_minor": 2
}
