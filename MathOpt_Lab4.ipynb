{
 "cells": [
  {
   "cell_type": "markdown",
   "metadata": {},
   "source": [
    "# 1. Постановка задачи, запись условия"
   ]
  },
  {
   "cell_type": "markdown",
   "metadata": {},
   "source": [
    "## 1.1. Подготовка необходимых библиотек \n"
   ]
  },
  {
   "cell_type": "code",
   "execution_count": 1,
   "metadata": {},
   "outputs": [],
   "source": [
    "from pulp import *\n",
    "from sympy import symbols"
   ]
  },
  {
   "cell_type": "markdown",
   "metadata": {},
   "source": [
    "## 1.2. Условие задачи"
   ]
  },
  {
   "cell_type": "markdown",
   "metadata": {},
   "source": [
    "<img  src=\"https://priscree.ru/img/151ead72af2e9c.jpg\" alt=\"ris\" width=\"500\" height=\"400\">\n",
    "\n",
    "Разделим условие задачи на два пункта:\n",
    "* Непосредственное решение задачи\n",
    "* Доказательство справедливости условия подсчета прибыли как $500x_3+400x_4$, где $x_3$ - количество сырья А, $x_4$ - количество сырья B"
   ]
  },
  {
   "cell_type": "markdown",
   "metadata": {},
   "source": [
    "## 1.3. Математическая запись условия "
   ]
  },
  {
   "cell_type": "markdown",
   "metadata": {},
   "source": [
    "Пусть $x_1$ - количество произведенной(проданной) продукции P, $x_2$- количество произведенной(проданной) продукции Q, $x_3$ - количество сырья А, $x_4$ - количество сырья B\n",
    "      \n",
    "Так как нужно получить максимальную прибыль, то есть максимальную разницу между доходами и расходами на производство, составим целевую функцию:\n",
    "\n",
    "$L(x) $ = 2000*$x_1$ + 1000*$x_2$-600*$x_3$-900*$x_4$ $\\rightarrow $ max\n",
    "\n",
    "Затем запишем ограничения задачи:\n",
    "\n",
    "\\begin{equation*}\n",
    " \\begin{cases}\n",
    "   0.3x_3+0.6x_4 = x_1,\n",
    "   \\\\\n",
    "   0.5x_3+0.1x_4 = x_2,\n",
    "   \\\\\n",
    "   x_3+x_4 <= 10000, \n",
    "   \\\\\n",
    "   x_1 <=5000,\n",
    "   \\\\\n",
    "   x_2 <= 3200,\n",
    "   \\\\\n",
    "   x_3 <= 6000,\n",
    "   \\\\\n",
    "   x_4 <= 8000.\n",
    " \\end{cases}\n",
    "\\end{equation*}\n",
    "\n",
    "\n"
   ]
  },
  {
   "cell_type": "markdown",
   "metadata": {},
   "source": [
    "# 2. Решение задачи\n",
    "## 2.1. Непосредственное решение задачи\n",
    "\n",
    "Перед нами задача линейного программирования со смешанным типом ограничений, воспользуемся библиотекой <strong> pulp </strong> для её решения."
   ]
  },
  {
   "cell_type": "code",
   "execution_count": 2,
   "metadata": {},
   "outputs": [
    {
     "name": "stdout",
     "output_type": "stream",
     "text": [
      "Результат:\n",
      "x1 = 4350.0\n",
      "x2 = 3200.0\n",
      "x3 = 5500.0\n",
      "x4 = 4500.0\n",
      "Прибыль:\n",
      "4550000.0\n"
     ]
    }
   ],
   "source": [
    "x1 = pulp.LpVariable(\"x1\", lowBound=0)\n",
    "x2 = pulp.LpVariable(\"x2\", lowBound=0)\n",
    "x3 = pulp.LpVariable(\"x3\", lowBound=0)\n",
    "x4 = pulp.LpVariable(\"x4\", lowBound=0)\n",
    "problem = pulp.LpProblem('0',LpMaximize)\n",
    "problem += 2000*x1 +1000*x2-600*x3-900*x4, \"Функция цели\"\n",
    "problem += 0.3*x3+0.6*x4 == x1\n",
    "problem += 0.5*x3+0.1*x4 == x2\n",
    "problem += x3+x4 <=10000\n",
    "problem += x1 <=5000\n",
    "problem += x2 <=3200\n",
    "problem += x3 <=6000\n",
    "problem += x4 <=8000\n",
    "problem.solve()\n",
    "print (\"Результат:\")\n",
    "for variable in problem.variables():\n",
    "    print (variable.name, \"=\", variable.varValue)\n",
    "print (\"Прибыль:\")\n",
    "print (value(problem.objective))"
   ]
  },
  {
   "cell_type": "markdown",
   "metadata": {},
   "source": [
    "Итак, ответ на первый пункт нашей задачи: Для максимизации прибыли необходимо производить $x_3=5500$ сырья А и $x_4=4500$ сырья B"
   ]
  },
  {
   "cell_type": "markdown",
   "metadata": {},
   "source": [
    "## 2.2. Доказательство условия"
   ]
  },
  {
   "cell_type": "markdown",
   "metadata": {},
   "source": [
    "Итак, сделаем сначала предположение о том, что все производится только из сырья А, затем то же самое для сырья B.\n",
    "\n",
    "Сложим полученные результаты и узнаем, чему равна зависимость между прибылью и количеством того или иного сырья."
   ]
  },
  {
   "cell_type": "code",
   "execution_count": 3,
   "metadata": {},
   "outputs": [],
   "source": [
    "x1, x2, x3, x4 = symbols('x1 x2 x3 x4')\n",
    "expr = 2000*x1+1000*x2-600*x3-900*x4"
   ]
  },
  {
   "cell_type": "markdown",
   "metadata": {},
   "source": [
    "Для этого подставим вместо $x_1$ и $x_2$ соответствующие им выражения в целевую функцию или в данном случае <strong> expr </strong> "
   ]
  },
  {
   "cell_type": "code",
   "execution_count": 4,
   "metadata": {},
   "outputs": [],
   "source": [
    "Cond1 = 0.3*x3+0.6*x4\n",
    "Cond2 = 0.5*x3+0.1*x4 \n",
    "exprnew = expr.subs(x1,Cond1)\n",
    "exprnew = exprnew.subs(x2,Cond2)"
   ]
  },
  {
   "cell_type": "markdown",
   "metadata": {},
   "source": [
    "Предполагаем, что все производится из сырья А(то есть количество сырья B $x_4=0$)"
   ]
  },
  {
   "cell_type": "code",
   "execution_count": 5,
   "metadata": {},
   "outputs": [],
   "source": [
    "first = exprnew.subs(x4,0)"
   ]
  },
  {
   "cell_type": "markdown",
   "metadata": {},
   "source": [
    "Предполагаем, что все производится из сырья B(то есть количество сырья А $x_3=0$)"
   ]
  },
  {
   "cell_type": "code",
   "execution_count": 6,
   "metadata": {},
   "outputs": [],
   "source": [
    "second = exprnew.subs(x3,0)"
   ]
  },
  {
   "cell_type": "markdown",
   "metadata": {},
   "source": [
    "Складываем эти два выражения и получаем результат:"
   ]
  },
  {
   "cell_type": "code",
   "execution_count": 7,
   "metadata": {},
   "outputs": [
    {
     "data": {
      "text/plain": [
       "500.0*x3 + 400.0*x4"
      ]
     },
     "execution_count": 7,
     "metadata": {},
     "output_type": "execute_result"
    }
   ],
   "source": [
    "first+second"
   ]
  },
  {
   "cell_type": "markdown",
   "metadata": {},
   "source": [
    "Получили тот же самый результат, что и требовалось. Условие доказано."
   ]
  }
 ],
 "metadata": {
  "kernelspec": {
   "display_name": "Python 3",
   "language": "python",
   "name": "python3"
  },
  "language_info": {
   "codemirror_mode": {
    "name": "ipython",
    "version": 3
   },
   "file_extension": ".py",
   "mimetype": "text/x-python",
   "name": "python",
   "nbconvert_exporter": "python",
   "pygments_lexer": "ipython3",
   "version": "3.7.3"
  }
 },
 "nbformat": 4,
 "nbformat_minor": 2
}
